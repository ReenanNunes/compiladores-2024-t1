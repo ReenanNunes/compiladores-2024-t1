{
  "nbformat": 4,
  "nbformat_minor": 0,
  "metadata": {
    "colab": {
      "provenance": [],
      "include_colab_link": true
    },
    "kernelspec": {
      "name": "python3",
      "display_name": "Python 3"
    },
    "language_info": {
      "name": "python"
    }
  },
  "cells": [
    {
      "cell_type": "markdown",
      "metadata": {
        "id": "view-in-github",
        "colab_type": "text"
      },
      "source": [
        "<a href=\"https://colab.research.google.com/github/ReenanNunes/compiladores-2024-t1/blob/main/Mapa_de_Risco.ipynb\" target=\"_parent\"><img src=\"https://colab.research.google.com/assets/colab-badge.svg\" alt=\"Open In Colab\"/></a>"
      ]
    },
    {
      "cell_type": "code",
      "execution_count": 27,
      "metadata": {
        "colab": {
          "base_uri": "https://localhost:8080/"
        },
        "id": "ZCfQRXs6WMrn",
        "outputId": "6899ad4f-7e03-4c8b-8403-17df70523ba9"
      },
      "outputs": [
        {
          "output_type": "stream",
          "name": "stdout",
          "text": [
            "Cloning into 'Mapa-de-Risco'...\n",
            "fatal: could not read Username for 'https://github.com': No such device or address\n"
          ]
        }
      ],
      "source": [
        "!pip install contextily\n",
        "!git clone https://github.com/ReenanNunes/Mapa-de-Risco\n",
        "\n",
        "\n",
        "\n",
        "import pandas as pd\n",
        "import geopandas as gpd\n",
        "import matplotlib.pyplot as plt\n",
        "import contextily as ctx\n",
        "\n",
        "def calcular_menor_distancia(origem, destinos):\n",
        "    destino_mais_proximo = destinos.geometry.apply(lambda x: origem.distance(x)).idxmin()\n",
        "    return destinos.loc[destino_mais_proximo]\n",
        "\n",
        "chuva_df = pd.read_csv(\"/content/dados/dados_chuva.csv\")\n",
        "elevacao_df = pd.read_csv(\"/content/dados/dados_elevacao.csv\")\n",
        "densidade_df = pd.read_csv(\"/content/dados/densidade_populacional.csv\")\n",
        "inundacoes_df = pd.read_csv(\"/content/dados/inundacoes_historicas.csv\")\n",
        "\n",
        "chuva_gdf = gpd.GeoDataFrame(\n",
        "    chuva_df,\n",
        "    geometry=gpd.points_from_xy(chuva_df.longitude, chuva_df.latitude),\n",
        "    crs=\"EPSG:4326\"\n",
        ")\n",
        "elevacao_gdf = gpd.GeoDataFrame(\n",
        "    elevacao_df,\n",
        "    geometry=gpd.points_from_xy(elevacao_df.longitude, elevacao_df.latitude),\n",
        "    crs=\"EPSG:4326\"\n",
        ")\n",
        "densidade_gdf = gpd.GeoDataFrame(\n",
        "    densidade_df,\n",
        "    geometry=gpd.points_from_xy(densidade_df.longitude, densidade_df.latitude),\n",
        "    crs=\"EPSG:4326\"\n",
        ")\n",
        "inundacoes_gdf = gpd.GeoDataFrame(\n",
        "    inundacoes_df,\n",
        "    geometry=gpd.points_from_xy(inundacoes_df.longitude, inundacoes_df.latitude),\n",
        "    crs=\"EPSG:4326\"\n",
        ")\n",
        "\n",
        "chuva_gdf = chuva_gdf.to_crs(\"EPSG:3857\")\n",
        "elevacao_gdf = elevacao_gdf.to_crs(\"EPSG:3857\")\n",
        "densidade_gdf = densidade_gdf.to_crs(\"EPSG:3857\")\n",
        "inundacoes_gdf = inundacoes_gdf.to_crs(\"EPSG:3857\")\n",
        "\n",
        "chuva_gdf[\"elevacao_m\"] = chuva_gdf.apply(lambda row: calcular_menor_distancia(row.geometry, elevacao_gdf)[\"elevacao_m\"], axis=1)\n",
        "chuva_gdf[\"densidade_populacional\"] = chuva_gdf.apply(lambda row: calcular_menor_distancia(row.geometry, densidade_gdf)[\"densidade_populacional\"], axis=1)\n",
        "\n",
        "FATOR_CHUVA = 0.5\n",
        "FATOR_ELEVACAO = 0.3\n",
        "FATOR_DENSIDADE = 0.2\n",
        "\n",
        "chuva_gdf[\"risco_inundacao\"] = (\n",
        "    chuva_gdf[\"chuva_mm\"] * FATOR_CHUVA +\n",
        "    (1 / chuva_gdf[\"elevacao_m\"]) * FATOR_ELEVACAO +\n",
        "    chuva_gdf[\"densidade_populacional\"] * FATOR_DENSIDADE\n",
        ")\n",
        "\n",
        "if chuva_gdf.crs.to_string() != \"EPSG:3857\":\n",
        "    chuva_gdf = chuva_gdf.to_crs(\"EPSG:3857\")\n",
        "if inundacoes_gdf.crs.to_string() != \"EPSG:3857\":\n",
        "    inundacoes_gdf = inundacoes_gdf.to_crs(\"EPSG:3857\")\n",
        "\n",
        "if \"categoria_risco\" not in chuva_gdf.columns:\n",
        "    print(\"Criando a coluna 'categoria_risco'...\")\n",
        "    chuva_gdf[\"categoria_risco\"] = pd.cut(\n",
        "        chuva_gdf[\"risco_inundacao\"],\n",
        "        bins = [0, 2, 4, float('inf')],\n",
        "        labels=[\"Baixo\", \"Médio\", \"Alto\"],\n",
        "        include_lowest=True\n",
        "    )\n",
        "\n",
        "if chuva_gdf.empty:\n",
        "    raise ValueError(\"O GeoDataFrame de chuva está vazio. Verifique os dados de entrada e processamento.\")\n",
        "\n",
        "print(\"Colunas disponíveis:\", chuva_gdf.columns)\n",
        "print(\"Valores únicos em 'categoria_risco':\", chuva_gdf[\"categoria_risco\"].unique())\n",
        "\n",
        "fig, ax = plt.subplots(1, 1, figsize=(15, 10))\n",
        "base = chuva_gdf.plot(\n",
        "    column=\"categoria_risco\",\n",
        "    cmap=\"Reds\",\n",
        "    linewidth=0.8,\n",
        "    ax=ax,\n",
        "    edgecolor=\"0.8\",\n",
        "    legend=True\n",
        ")\n",
        "\n",
        "\n",
        "ctx.add_basemap(ax, source=ctx.providers.OpenStreetMap.Mapnik, crs=chuva_gdf.crs)\n",
        "\n",
        "plt.title(\"Mapa Detalhado de Risco de Inundações\", fontsize=16)\n",
        "plt.legend(loc=\"upper right\", fontsize=10)\n",
        "plt.xlabel(\"Longitude\")\n",
        "plt.ylabel(\"Latitude\")\n",
        "plt.tight_layout()\n",
        "plt.show()"
      ]
    }
  ]
}